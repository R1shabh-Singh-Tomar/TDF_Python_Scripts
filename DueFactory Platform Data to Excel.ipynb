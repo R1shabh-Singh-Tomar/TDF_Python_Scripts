{
 "cells": [
  {
   "cell_type": "code",
   "execution_count": 4,
   "id": "95a3cff1",
   "metadata": {},
   "outputs": [],
   "source": [
    "import requests\n",
    "import json\n",
    "\n",
    "url = \"http://api.duefactory.com/auth/login/crm\"\n",
    "\n",
    "payload = json.dumps({\n",
    "  \"username\": \"admin1@theduefactory.com\",\n",
    "  \"password\": \"admin1020\"\n",
    "})\n",
    "headers = {\n",
    "  'Content-Type': 'application/json'\n",
    "}\n",
    "\n",
    "response = requests.request(\"POST\", url, headers=headers, data=payload)"
   ]
  },
  {
   "cell_type": "code",
   "execution_count": 5,
   "id": "3af2f8ef",
   "metadata": {},
   "outputs": [],
   "source": [
    "import pandas\n",
    "\n",
    "abc = pandas.read_json(response.text)"
   ]
  },
  {
   "cell_type": "code",
   "execution_count": 6,
   "id": "97f027ae",
   "metadata": {},
   "outputs": [],
   "source": [
    "token = abc.iloc[0, 0]\n",
    "\n",
    "oauthToken = 'Bearer ' + token"
   ]
  },
  {
   "cell_type": "code",
   "execution_count": 8,
   "id": "e17c6c7c",
   "metadata": {},
   "outputs": [],
   "source": [
    "import requests\n",
    "import json\n",
    "\n",
    "url = \"http://api.duefactory.com//tdf/api/getUsersListWithActivityDetails\"\n",
    "\n",
    "payload = json.dumps({\n",
    "  \"startDate\": \"2023-08-04\",\n",
    "  \"endDate\": \"2023-08-06\"\n",
    "})\n",
    "headers = {\n",
    "  'Content-Type': 'application/json',\n",
    "  'Authorization': oauthToken\n",
    "}\n",
    "\n",
    "response1 = requests.request(\"POST\", url, headers=headers, data=payload)"
   ]
  },
  {
   "cell_type": "code",
   "execution_count": 9,
   "id": "810b990a",
   "metadata": {},
   "outputs": [],
   "source": [
    "pandas.read_json(response1.text).to_csv(\"4_6th August Platform Data.csv\")"
   ]
  },
  {
   "cell_type": "code",
   "execution_count": null,
   "id": "165ca586",
   "metadata": {},
   "outputs": [],
   "source": []
  }
 ],
 "metadata": {
  "kernelspec": {
   "display_name": "Python 3 (ipykernel)",
   "language": "python",
   "name": "python3"
  },
  "language_info": {
   "codemirror_mode": {
    "name": "ipython",
    "version": 3
   },
   "file_extension": ".py",
   "mimetype": "text/x-python",
   "name": "python",
   "nbconvert_exporter": "python",
   "pygments_lexer": "ipython3",
   "version": "3.10.9"
  }
 },
 "nbformat": 4,
 "nbformat_minor": 5
}
